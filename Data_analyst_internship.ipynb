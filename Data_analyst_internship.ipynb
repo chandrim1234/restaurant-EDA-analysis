{
  "nbformat": 4,
  "nbformat_minor": 0,
  "metadata": {
    "colab": {
      "provenance": []
    },
    "kernelspec": {
      "name": "python3",
      "display_name": "Python 3"
    },
    "language_info": {
      "name": "python"
    }
  },
  "cells": [
    {
      "cell_type": "markdown",
      "source": [
        "# Level 1\n",
        "# task 1"
      ],
      "metadata": {
        "id": "SHJKyUGwfXpN"
      }
    },
    {
      "cell_type": "code",
      "execution_count": null,
      "metadata": {
        "id": "n2wnb5U9-lQE"
      },
      "outputs": [],
      "source": [
        "import pandas as pd\n",
        "import matplotlib.pyplot as plt"
      ]
    },
    {
      "cell_type": "markdown",
      "source": [
        "# Top Cuisines"
      ],
      "metadata": {
        "id": "1nZgWhRKfQjC"
      }
    },
    {
      "cell_type": "code",
      "source": [
        "#load dataset\n",
        "data = pd.read_excel('data1.xlsx')"
      ],
      "metadata": {
        "id": "2XQhMc5DO7Nk"
      },
      "execution_count": null,
      "outputs": []
    },
    {
      "cell_type": "code",
      "source": [
        "data.head()"
      ],
      "metadata": {
        "colab": {
          "base_uri": "https://localhost:8080/",
          "height": 811
        },
        "id": "dybFcvsAPjZL",
        "outputId": "52039bae-7d89-4826-b9fc-46f05c2f4257"
      },
      "execution_count": null,
      "outputs": [
        {
          "output_type": "execute_result",
          "data": {
            "text/plain": [
              "   Restaurant ID         Restaurant Name  Country Code              City  \\\n",
              "0        6317637        Le Petit Souffle           162       Makati City   \n",
              "1        6304287        Izakaya Kikufuji           162       Makati City   \n",
              "2        6300002  Heat - Edsa Shangri-La           162  Mandaluyong City   \n",
              "3        6318506                    Ooma           162  Mandaluyong City   \n",
              "4        6314302             Sambo Kojin           162  Mandaluyong City   \n",
              "\n",
              "                                             Address  \\\n",
              "0  Third Floor, Century City Mall, Kalayaan Avenu...   \n",
              "1  Little Tokyo, 2277 Chino Roces Avenue, Legaspi...   \n",
              "2  Edsa Shangri-La, 1 Garden Way, Ortigas, Mandal...   \n",
              "3  Third Floor, Mega Fashion Hall, SM Megamall, O...   \n",
              "4  Third Floor, Mega Atrium, SM Megamall, Ortigas...   \n",
              "\n",
              "                                     Locality  \\\n",
              "0   Century City Mall, Poblacion, Makati City   \n",
              "1  Little Tokyo, Legaspi Village, Makati City   \n",
              "2  Edsa Shangri-La, Ortigas, Mandaluyong City   \n",
              "3      SM Megamall, Ortigas, Mandaluyong City   \n",
              "4      SM Megamall, Ortigas, Mandaluyong City   \n",
              "\n",
              "                                    Locality Verbose   Longitude   Latitude  \\\n",
              "0  Century City Mall, Poblacion, Makati City, Mak...  121.027535  14.565443   \n",
              "1  Little Tokyo, Legaspi Village, Makati City, Ma...  121.014101  14.553708   \n",
              "2  Edsa Shangri-La, Ortigas, Mandaluyong City, Ma...  121.056831  14.581404   \n",
              "3  SM Megamall, Ortigas, Mandaluyong City, Mandal...  121.056475  14.585318   \n",
              "4  SM Megamall, Ortigas, Mandaluyong City, Mandal...  121.057508  14.584450   \n",
              "\n",
              "                           Cuisines  ...          Currency Has Table booking  \\\n",
              "0        French, Japanese, Desserts  ...  Botswana Pula(P)               Yes   \n",
              "1                          Japanese  ...  Botswana Pula(P)               Yes   \n",
              "2  Seafood, Asian, Filipino, Indian  ...  Botswana Pula(P)               Yes   \n",
              "3                   Japanese, Sushi  ...  Botswana Pula(P)                No   \n",
              "4                  Japanese, Korean  ...  Botswana Pula(P)               Yes   \n",
              "\n",
              "  Has Online delivery Is delivering now Switch to order menu Price range  \\\n",
              "0                  No                No                   No           3   \n",
              "1                  No                No                   No           3   \n",
              "2                  No                No                   No           4   \n",
              "3                  No                No                   No           4   \n",
              "4                  No                No                   No           4   \n",
              "\n",
              "   Aggregate rating  Rating color Rating text Votes  \n",
              "0               4.8    Dark Green   Excellent   314  \n",
              "1               4.5    Dark Green   Excellent   591  \n",
              "2               4.4         Green   Very Good   270  \n",
              "3               4.9    Dark Green   Excellent   365  \n",
              "4               4.8    Dark Green   Excellent   229  \n",
              "\n",
              "[5 rows x 21 columns]"
            ],
            "text/html": [
              "\n",
              "  <div id=\"df-2baf93f9-60dc-4b2f-be8c-ce0cf7249c5c\" class=\"colab-df-container\">\n",
              "    <div>\n",
              "<style scoped>\n",
              "    .dataframe tbody tr th:only-of-type {\n",
              "        vertical-align: middle;\n",
              "    }\n",
              "\n",
              "    .dataframe tbody tr th {\n",
              "        vertical-align: top;\n",
              "    }\n",
              "\n",
              "    .dataframe thead th {\n",
              "        text-align: right;\n",
              "    }\n",
              "</style>\n",
              "<table border=\"1\" class=\"dataframe\">\n",
              "  <thead>\n",
              "    <tr style=\"text-align: right;\">\n",
              "      <th></th>\n",
              "      <th>Restaurant ID</th>\n",
              "      <th>Restaurant Name</th>\n",
              "      <th>Country Code</th>\n",
              "      <th>City</th>\n",
              "      <th>Address</th>\n",
              "      <th>Locality</th>\n",
              "      <th>Locality Verbose</th>\n",
              "      <th>Longitude</th>\n",
              "      <th>Latitude</th>\n",
              "      <th>Cuisines</th>\n",
              "      <th>...</th>\n",
              "      <th>Currency</th>\n",
              "      <th>Has Table booking</th>\n",
              "      <th>Has Online delivery</th>\n",
              "      <th>Is delivering now</th>\n",
              "      <th>Switch to order menu</th>\n",
              "      <th>Price range</th>\n",
              "      <th>Aggregate rating</th>\n",
              "      <th>Rating color</th>\n",
              "      <th>Rating text</th>\n",
              "      <th>Votes</th>\n",
              "    </tr>\n",
              "  </thead>\n",
              "  <tbody>\n",
              "    <tr>\n",
              "      <th>0</th>\n",
              "      <td>6317637</td>\n",
              "      <td>Le Petit Souffle</td>\n",
              "      <td>162</td>\n",
              "      <td>Makati City</td>\n",
              "      <td>Third Floor, Century City Mall, Kalayaan Avenu...</td>\n",
              "      <td>Century City Mall, Poblacion, Makati City</td>\n",
              "      <td>Century City Mall, Poblacion, Makati City, Mak...</td>\n",
              "      <td>121.027535</td>\n",
              "      <td>14.565443</td>\n",
              "      <td>French, Japanese, Desserts</td>\n",
              "      <td>...</td>\n",
              "      <td>Botswana Pula(P)</td>\n",
              "      <td>Yes</td>\n",
              "      <td>No</td>\n",
              "      <td>No</td>\n",
              "      <td>No</td>\n",
              "      <td>3</td>\n",
              "      <td>4.8</td>\n",
              "      <td>Dark Green</td>\n",
              "      <td>Excellent</td>\n",
              "      <td>314</td>\n",
              "    </tr>\n",
              "    <tr>\n",
              "      <th>1</th>\n",
              "      <td>6304287</td>\n",
              "      <td>Izakaya Kikufuji</td>\n",
              "      <td>162</td>\n",
              "      <td>Makati City</td>\n",
              "      <td>Little Tokyo, 2277 Chino Roces Avenue, Legaspi...</td>\n",
              "      <td>Little Tokyo, Legaspi Village, Makati City</td>\n",
              "      <td>Little Tokyo, Legaspi Village, Makati City, Ma...</td>\n",
              "      <td>121.014101</td>\n",
              "      <td>14.553708</td>\n",
              "      <td>Japanese</td>\n",
              "      <td>...</td>\n",
              "      <td>Botswana Pula(P)</td>\n",
              "      <td>Yes</td>\n",
              "      <td>No</td>\n",
              "      <td>No</td>\n",
              "      <td>No</td>\n",
              "      <td>3</td>\n",
              "      <td>4.5</td>\n",
              "      <td>Dark Green</td>\n",
              "      <td>Excellent</td>\n",
              "      <td>591</td>\n",
              "    </tr>\n",
              "    <tr>\n",
              "      <th>2</th>\n",
              "      <td>6300002</td>\n",
              "      <td>Heat - Edsa Shangri-La</td>\n",
              "      <td>162</td>\n",
              "      <td>Mandaluyong City</td>\n",
              "      <td>Edsa Shangri-La, 1 Garden Way, Ortigas, Mandal...</td>\n",
              "      <td>Edsa Shangri-La, Ortigas, Mandaluyong City</td>\n",
              "      <td>Edsa Shangri-La, Ortigas, Mandaluyong City, Ma...</td>\n",
              "      <td>121.056831</td>\n",
              "      <td>14.581404</td>\n",
              "      <td>Seafood, Asian, Filipino, Indian</td>\n",
              "      <td>...</td>\n",
              "      <td>Botswana Pula(P)</td>\n",
              "      <td>Yes</td>\n",
              "      <td>No</td>\n",
              "      <td>No</td>\n",
              "      <td>No</td>\n",
              "      <td>4</td>\n",
              "      <td>4.4</td>\n",
              "      <td>Green</td>\n",
              "      <td>Very Good</td>\n",
              "      <td>270</td>\n",
              "    </tr>\n",
              "    <tr>\n",
              "      <th>3</th>\n",
              "      <td>6318506</td>\n",
              "      <td>Ooma</td>\n",
              "      <td>162</td>\n",
              "      <td>Mandaluyong City</td>\n",
              "      <td>Third Floor, Mega Fashion Hall, SM Megamall, O...</td>\n",
              "      <td>SM Megamall, Ortigas, Mandaluyong City</td>\n",
              "      <td>SM Megamall, Ortigas, Mandaluyong City, Mandal...</td>\n",
              "      <td>121.056475</td>\n",
              "      <td>14.585318</td>\n",
              "      <td>Japanese, Sushi</td>\n",
              "      <td>...</td>\n",
              "      <td>Botswana Pula(P)</td>\n",
              "      <td>No</td>\n",
              "      <td>No</td>\n",
              "      <td>No</td>\n",
              "      <td>No</td>\n",
              "      <td>4</td>\n",
              "      <td>4.9</td>\n",
              "      <td>Dark Green</td>\n",
              "      <td>Excellent</td>\n",
              "      <td>365</td>\n",
              "    </tr>\n",
              "    <tr>\n",
              "      <th>4</th>\n",
              "      <td>6314302</td>\n",
              "      <td>Sambo Kojin</td>\n",
              "      <td>162</td>\n",
              "      <td>Mandaluyong City</td>\n",
              "      <td>Third Floor, Mega Atrium, SM Megamall, Ortigas...</td>\n",
              "      <td>SM Megamall, Ortigas, Mandaluyong City</td>\n",
              "      <td>SM Megamall, Ortigas, Mandaluyong City, Mandal...</td>\n",
              "      <td>121.057508</td>\n",
              "      <td>14.584450</td>\n",
              "      <td>Japanese, Korean</td>\n",
              "      <td>...</td>\n",
              "      <td>Botswana Pula(P)</td>\n",
              "      <td>Yes</td>\n",
              "      <td>No</td>\n",
              "      <td>No</td>\n",
              "      <td>No</td>\n",
              "      <td>4</td>\n",
              "      <td>4.8</td>\n",
              "      <td>Dark Green</td>\n",
              "      <td>Excellent</td>\n",
              "      <td>229</td>\n",
              "    </tr>\n",
              "  </tbody>\n",
              "</table>\n",
              "<p>5 rows × 21 columns</p>\n",
              "</div>\n",
              "    <div class=\"colab-df-buttons\">\n",
              "\n",
              "  <div class=\"colab-df-container\">\n",
              "    <button class=\"colab-df-convert\" onclick=\"convertToInteractive('df-2baf93f9-60dc-4b2f-be8c-ce0cf7249c5c')\"\n",
              "            title=\"Convert this dataframe to an interactive table.\"\n",
              "            style=\"display:none;\">\n",
              "\n",
              "  <svg xmlns=\"http://www.w3.org/2000/svg\" height=\"24px\" viewBox=\"0 -960 960 960\">\n",
              "    <path d=\"M120-120v-720h720v720H120Zm60-500h600v-160H180v160Zm220 220h160v-160H400v160Zm0 220h160v-160H400v160ZM180-400h160v-160H180v160Zm440 0h160v-160H620v160ZM180-180h160v-160H180v160Zm440 0h160v-160H620v160Z\"/>\n",
              "  </svg>\n",
              "    </button>\n",
              "\n",
              "  <style>\n",
              "    .colab-df-container {\n",
              "      display:flex;\n",
              "      gap: 12px;\n",
              "    }\n",
              "\n",
              "    .colab-df-convert {\n",
              "      background-color: #E8F0FE;\n",
              "      border: none;\n",
              "      border-radius: 50%;\n",
              "      cursor: pointer;\n",
              "      display: none;\n",
              "      fill: #1967D2;\n",
              "      height: 32px;\n",
              "      padding: 0 0 0 0;\n",
              "      width: 32px;\n",
              "    }\n",
              "\n",
              "    .colab-df-convert:hover {\n",
              "      background-color: #E2EBFA;\n",
              "      box-shadow: 0px 1px 2px rgba(60, 64, 67, 0.3), 0px 1px 3px 1px rgba(60, 64, 67, 0.15);\n",
              "      fill: #174EA6;\n",
              "    }\n",
              "\n",
              "    .colab-df-buttons div {\n",
              "      margin-bottom: 4px;\n",
              "    }\n",
              "\n",
              "    [theme=dark] .colab-df-convert {\n",
              "      background-color: #3B4455;\n",
              "      fill: #D2E3FC;\n",
              "    }\n",
              "\n",
              "    [theme=dark] .colab-df-convert:hover {\n",
              "      background-color: #434B5C;\n",
              "      box-shadow: 0px 1px 3px 1px rgba(0, 0, 0, 0.15);\n",
              "      filter: drop-shadow(0px 1px 2px rgba(0, 0, 0, 0.3));\n",
              "      fill: #FFFFFF;\n",
              "    }\n",
              "  </style>\n",
              "\n",
              "    <script>\n",
              "      const buttonEl =\n",
              "        document.querySelector('#df-2baf93f9-60dc-4b2f-be8c-ce0cf7249c5c button.colab-df-convert');\n",
              "      buttonEl.style.display =\n",
              "        google.colab.kernel.accessAllowed ? 'block' : 'none';\n",
              "\n",
              "      async function convertToInteractive(key) {\n",
              "        const element = document.querySelector('#df-2baf93f9-60dc-4b2f-be8c-ce0cf7249c5c');\n",
              "        const dataTable =\n",
              "          await google.colab.kernel.invokeFunction('convertToInteractive',\n",
              "                                                    [key], {});\n",
              "        if (!dataTable) return;\n",
              "\n",
              "        const docLinkHtml = 'Like what you see? Visit the ' +\n",
              "          '<a target=\"_blank\" href=https://colab.research.google.com/notebooks/data_table.ipynb>data table notebook</a>'\n",
              "          + ' to learn more about interactive tables.';\n",
              "        element.innerHTML = '';\n",
              "        dataTable['output_type'] = 'display_data';\n",
              "        await google.colab.output.renderOutput(dataTable, element);\n",
              "        const docLink = document.createElement('div');\n",
              "        docLink.innerHTML = docLinkHtml;\n",
              "        element.appendChild(docLink);\n",
              "      }\n",
              "    </script>\n",
              "  </div>\n",
              "\n",
              "\n",
              "<div id=\"df-c93af2da-7605-4a1a-abed-c76d0f14e99c\">\n",
              "  <button class=\"colab-df-quickchart\" onclick=\"quickchart('df-c93af2da-7605-4a1a-abed-c76d0f14e99c')\"\n",
              "            title=\"Suggest charts\"\n",
              "            style=\"display:none;\">\n",
              "\n",
              "<svg xmlns=\"http://www.w3.org/2000/svg\" height=\"24px\"viewBox=\"0 0 24 24\"\n",
              "     width=\"24px\">\n",
              "    <g>\n",
              "        <path d=\"M19 3H5c-1.1 0-2 .9-2 2v14c0 1.1.9 2 2 2h14c1.1 0 2-.9 2-2V5c0-1.1-.9-2-2-2zM9 17H7v-7h2v7zm4 0h-2V7h2v10zm4 0h-2v-4h2v4z\"/>\n",
              "    </g>\n",
              "</svg>\n",
              "  </button>\n",
              "\n",
              "<style>\n",
              "  .colab-df-quickchart {\n",
              "      --bg-color: #E8F0FE;\n",
              "      --fill-color: #1967D2;\n",
              "      --hover-bg-color: #E2EBFA;\n",
              "      --hover-fill-color: #174EA6;\n",
              "      --disabled-fill-color: #AAA;\n",
              "      --disabled-bg-color: #DDD;\n",
              "  }\n",
              "\n",
              "  [theme=dark] .colab-df-quickchart {\n",
              "      --bg-color: #3B4455;\n",
              "      --fill-color: #D2E3FC;\n",
              "      --hover-bg-color: #434B5C;\n",
              "      --hover-fill-color: #FFFFFF;\n",
              "      --disabled-bg-color: #3B4455;\n",
              "      --disabled-fill-color: #666;\n",
              "  }\n",
              "\n",
              "  .colab-df-quickchart {\n",
              "    background-color: var(--bg-color);\n",
              "    border: none;\n",
              "    border-radius: 50%;\n",
              "    cursor: pointer;\n",
              "    display: none;\n",
              "    fill: var(--fill-color);\n",
              "    height: 32px;\n",
              "    padding: 0;\n",
              "    width: 32px;\n",
              "  }\n",
              "\n",
              "  .colab-df-quickchart:hover {\n",
              "    background-color: var(--hover-bg-color);\n",
              "    box-shadow: 0 1px 2px rgba(60, 64, 67, 0.3), 0 1px 3px 1px rgba(60, 64, 67, 0.15);\n",
              "    fill: var(--button-hover-fill-color);\n",
              "  }\n",
              "\n",
              "  .colab-df-quickchart-complete:disabled,\n",
              "  .colab-df-quickchart-complete:disabled:hover {\n",
              "    background-color: var(--disabled-bg-color);\n",
              "    fill: var(--disabled-fill-color);\n",
              "    box-shadow: none;\n",
              "  }\n",
              "\n",
              "  .colab-df-spinner {\n",
              "    border: 2px solid var(--fill-color);\n",
              "    border-color: transparent;\n",
              "    border-bottom-color: var(--fill-color);\n",
              "    animation:\n",
              "      spin 1s steps(1) infinite;\n",
              "  }\n",
              "\n",
              "  @keyframes spin {\n",
              "    0% {\n",
              "      border-color: transparent;\n",
              "      border-bottom-color: var(--fill-color);\n",
              "      border-left-color: var(--fill-color);\n",
              "    }\n",
              "    20% {\n",
              "      border-color: transparent;\n",
              "      border-left-color: var(--fill-color);\n",
              "      border-top-color: var(--fill-color);\n",
              "    }\n",
              "    30% {\n",
              "      border-color: transparent;\n",
              "      border-left-color: var(--fill-color);\n",
              "      border-top-color: var(--fill-color);\n",
              "      border-right-color: var(--fill-color);\n",
              "    }\n",
              "    40% {\n",
              "      border-color: transparent;\n",
              "      border-right-color: var(--fill-color);\n",
              "      border-top-color: var(--fill-color);\n",
              "    }\n",
              "    60% {\n",
              "      border-color: transparent;\n",
              "      border-right-color: var(--fill-color);\n",
              "    }\n",
              "    80% {\n",
              "      border-color: transparent;\n",
              "      border-right-color: var(--fill-color);\n",
              "      border-bottom-color: var(--fill-color);\n",
              "    }\n",
              "    90% {\n",
              "      border-color: transparent;\n",
              "      border-bottom-color: var(--fill-color);\n",
              "    }\n",
              "  }\n",
              "</style>\n",
              "\n",
              "  <script>\n",
              "    async function quickchart(key) {\n",
              "      const quickchartButtonEl =\n",
              "        document.querySelector('#' + key + ' button');\n",
              "      quickchartButtonEl.disabled = true;  // To prevent multiple clicks.\n",
              "      quickchartButtonEl.classList.add('colab-df-spinner');\n",
              "      try {\n",
              "        const charts = await google.colab.kernel.invokeFunction(\n",
              "            'suggestCharts', [key], {});\n",
              "      } catch (error) {\n",
              "        console.error('Error during call to suggestCharts:', error);\n",
              "      }\n",
              "      quickchartButtonEl.classList.remove('colab-df-spinner');\n",
              "      quickchartButtonEl.classList.add('colab-df-quickchart-complete');\n",
              "    }\n",
              "    (() => {\n",
              "      let quickchartButtonEl =\n",
              "        document.querySelector('#df-c93af2da-7605-4a1a-abed-c76d0f14e99c button');\n",
              "      quickchartButtonEl.style.display =\n",
              "        google.colab.kernel.accessAllowed ? 'block' : 'none';\n",
              "    })();\n",
              "  </script>\n",
              "</div>\n",
              "\n",
              "    </div>\n",
              "  </div>\n"
            ],
            "application/vnd.google.colaboratory.intrinsic+json": {
              "type": "dataframe",
              "variable_name": "data"
            }
          },
          "metadata": {},
          "execution_count": 78
        }
      ]
    },
    {
      "cell_type": "code",
      "source": [
        "# Extract the 'Cuisines' column and normalize the data by splitting the multiple cuisines in each entry\n",
        "cuisines = data['Cuisines'].str.split(',').explode().str.strip()"
      ],
      "metadata": {
        "id": "FU0EpI9cPt1m"
      },
      "execution_count": null,
      "outputs": []
    },
    {
      "cell_type": "code",
      "source": [
        "# Count the occurrences of each cuisine\n",
        "cuisine_counts = cuisines.value_counts()"
      ],
      "metadata": {
        "id": "gmSaa3oZQsdu"
      },
      "execution_count": null,
      "outputs": []
    },
    {
      "cell_type": "code",
      "source": [
        "# Identify the top three most common cuisines\n",
        "top_cuisines = cuisine_counts.head(3)"
      ],
      "metadata": {
        "id": "RMLx8rMYQzv4"
      },
      "execution_count": null,
      "outputs": []
    },
    {
      "cell_type": "code",
      "source": [
        "# Calculate the total number of restaurants\n",
        "total_restaurants = data.shape[0]"
      ],
      "metadata": {
        "id": "QRe81B3dQ4Y8"
      },
      "execution_count": null,
      "outputs": []
    },
    {
      "cell_type": "code",
      "source": [
        "# Calculate the percentage of restaurants serving each of the top cuisines\n",
        "top_cuisines_percentage = (top_cuisines / total_restaurants) * 100"
      ],
      "metadata": {
        "id": "R6h8-ojzQ6ge"
      },
      "execution_count": null,
      "outputs": []
    },
    {
      "cell_type": "code",
      "source": [
        "top_cuisines, top_cuisines_percentage"
      ],
      "metadata": {
        "colab": {
          "base_uri": "https://localhost:8080/"
        },
        "id": "aBbkXY02RBA6",
        "outputId": "4d7c1f34-01d3-4c74-96e4-7df9efc8b2a7"
      },
      "execution_count": null,
      "outputs": [
        {
          "output_type": "execute_result",
          "data": {
            "text/plain": [
              "(Cuisines\n",
              " North Indian    3960\n",
              " Chinese         2735\n",
              " Fast Food       1986\n",
              " Name: count, dtype: int64,\n",
              " Cuisines\n",
              " North Indian    41.461627\n",
              " Chinese         28.635745\n",
              " Fast Food       20.793634\n",
              " Name: count, dtype: float64)"
            ]
          },
          "metadata": {},
          "execution_count": 10
        }
      ]
    },
    {
      "cell_type": "markdown",
      "source": [
        "# Task 2"
      ],
      "metadata": {
        "id": "QELmSjuQfkam"
      }
    },
    {
      "cell_type": "markdown",
      "source": [
        "# City Analysis\n"
      ],
      "metadata": {
        "id": "fxXtTHUCRxOW"
      }
    },
    {
      "cell_type": "code",
      "source": [
        "# Identify the city with the highest number of restaurants\n",
        "city_counts = data['City'].value_counts()\n",
        "city_with_highest_restaurants = city_counts.idxmax()\n",
        "num_restaurants_in_city = city_counts.max()"
      ],
      "metadata": {
        "id": "8wbkDDfURgYw"
      },
      "execution_count": null,
      "outputs": []
    },
    {
      "cell_type": "code",
      "source": [
        "# Calculate the average rating for restaurants in each city\n",
        "city_avg_ratings = data.groupby('City')['Aggregate rating'].mean()"
      ],
      "metadata": {
        "id": "JEjJegEyVQO_"
      },
      "execution_count": null,
      "outputs": []
    },
    {
      "cell_type": "code",
      "source": [
        "# Determine the city with the highest average rating\n",
        "city_with_highest_avg_rating = city_avg_ratings.idxmax()\n",
        "highest_avg_rating = city_avg_ratings.max()"
      ],
      "metadata": {
        "id": "WQ7STs0bVURj"
      },
      "execution_count": null,
      "outputs": []
    },
    {
      "cell_type": "code",
      "source": [
        "city_with_highest_restaurants, num_restaurants_in_city, city_with_highest_avg_rating, highest_avg_rating"
      ],
      "metadata": {
        "colab": {
          "base_uri": "https://localhost:8080/"
        },
        "id": "Ue_szan1VYC-",
        "outputId": "d5fe7084-c924-4a46-a2ca-e8adb46a64a5"
      },
      "execution_count": null,
      "outputs": [
        {
          "output_type": "execute_result",
          "data": {
            "text/plain": [
              "('New Delhi', 5473, 'Inner City', 4.9)"
            ]
          },
          "metadata": {},
          "execution_count": 18
        }
      ]
    },
    {
      "cell_type": "markdown",
      "source": [
        "# Task 3"
      ],
      "metadata": {
        "id": "1v0gyd8afokf"
      }
    },
    {
      "cell_type": "markdown",
      "source": [
        "# Price Range Distribution"
      ],
      "metadata": {
        "id": "bSAo9LxwYEjO"
      }
    },
    {
      "cell_type": "code",
      "source": [
        "# Create a histogram to visualize the distribution of price ranges among the restaurants\n",
        "price_range_counts = data['Price range'].value_counts().sort_index()"
      ],
      "metadata": {
        "id": "j-6Et0CRYx4h"
      },
      "execution_count": null,
      "outputs": []
    },
    {
      "cell_type": "code",
      "source": [
        "# plot the histogram\n",
        "plt.figure(figsize=(10, 6))\n",
        "price_range_counts.plot(kind='bar', color='skyblue', edgecolor='black')\n",
        "plt.title('Distribution of Price Ranges Among Restaurants')\n",
        "plt.xlabel('Price Range')\n",
        "plt.ylabel('Number of Restaurants')\n",
        "plt.xticks(rotation=0)\n",
        "plt.show()"
      ],
      "metadata": {
        "colab": {
          "base_uri": "https://localhost:8080/",
          "height": 564
        },
        "id": "VIRAM3M6cki_",
        "outputId": "8996338b-94af-49f1-874c-c59a7158cffb"
      },
      "execution_count": null,
      "outputs": [
        {
          "output_type": "display_data",
          "data": {
            "text/plain": [
              "<Figure size 1000x600 with 1 Axes>"
            ],
            "image/png": "[encoded data removed]"
          },
          "metadata": {}
        }
      ]
    },
    {
      "cell_type": "markdown",
      "source": [
        "# Task 4"
      ],
      "metadata": {
        "id": "QQ2O_1k1fvXV"
      }
    },
    {
      "cell_type": "markdown",
      "source": [
        "# Online Delivery"
      ],
      "metadata": {
        "id": "SmN1EBlJkUWq"
      }
    },
    {
      "cell_type": "code",
      "source": [
        "#Calculate the percentage of restaurants that offer online delivery\n",
        "total_restaurants = len(data)\n",
        "online_delivery_count = data[data['Has Online delivery'] == 'Yes'].shape[0]\n",
        "total_restaurants = data.shape[0]\n",
        "online_delivery_percentage = (online_delivery_count / total_restaurants) * 100\n",
        "print(f\"Percentage of restaurants that offer online delivery: {online_delivery_percentage:.2f}%\")"
      ],
      "metadata": {
        "colab": {
          "base_uri": "https://localhost:8080/"
        },
        "id": "kU8Sa0J0eLlK",
        "outputId": "11df7068-7d63-4c87-fef1-0588ac824853"
      },
      "execution_count": null,
      "outputs": [
        {
          "output_type": "stream",
          "name": "stdout",
          "text": [
            "Percentage of restaurants that offer online delivery: 25.66%\n"
          ]
        }
      ]
    },
    {
      "cell_type": "markdown",
      "source": [
        "Percentage of restaurants that offer online delivery: 25.66%"
      ],
      "metadata": {
        "id": "VXxHgwg3kmXB"
      }
    },
    {
      "cell_type": "code",
      "source": [
        "#Compare the average ratings:\n",
        "average_ratings = data.groupby('Has Online delivery')['Aggregate rating'].mean()\n",
        "print(f\"Average rating of restaurants with online delivery: {average_ratings['Yes']:.2f}\")\n",
        "print(f\"Average rating of restaurants without online delivery: {average_ratings['No']:.2f}\")"
      ],
      "metadata": {
        "colab": {
          "base_uri": "https://localhost:8080/"
        },
        "id": "6ttklxgOkOFi",
        "outputId": "20ab2704-c9ff-4aba-d841-f704c8dcb84c"
      },
      "execution_count": null,
      "outputs": [
        {
          "output_type": "stream",
          "name": "stdout",
          "text": [
            "Average rating of restaurants with online delivery: 3.25\n",
            "Average rating of restaurants without online delivery: 2.47\n"
          ]
        }
      ]
    },
    {
      "cell_type": "markdown",
      "source": [
        "Average rating of restaurants with online delivery: 3.25\n",
        "Average rating of restaurants without online delivery: 2.47"
      ],
      "metadata": {
        "id": "AxWgYzSblEt7"
      }
    },
    {
      "cell_type": "markdown",
      "source": [
        "# Level 3\n",
        "# Task 1\n",
        "# Restaurant Reviews"
      ],
      "metadata": {
        "id": "jQ_7JKnZDdNa"
      }
    },
    {
      "cell_type": "code",
      "source": [
        "pip install pandas nltk sklearn\n"
      ],
      "metadata": {
        "colab": {
          "base_uri": "https://localhost:8080/"
        },
        "id": "TBzB1UNVEAXy",
        "outputId": "1050bc4f-baae-4f80-d4f3-24f5f9753813"
      },
      "execution_count": null,
      "outputs": [
        {
          "output_type": "stream",
          "name": "stdout",
          "text": [
            "Requirement already satisfied: pandas in /usr/local/lib/python3.10/dist-packages (2.0.3)\n",
            "Requirement already satisfied: nltk in /usr/local/lib/python3.10/dist-packages (3.8.1)\n",
            "Collecting sklearn\n",
            "  Downloading sklearn-0.0.post12.tar.gz (2.6 kB)\n",
            "  \u001b[1;31merror\u001b[0m: \u001b[1msubprocess-exited-with-error\u001b[0m\n",
            "  \n",
            "  \u001b[31m×\u001b[0m \u001b[32mpython setup.py egg_info\u001b[0m did not run successfully.\n",
            "  \u001b[31m│\u001b[0m exit code: \u001b[1;36m1\u001b[0m\n",
            "  \u001b[31m╰─>\u001b[0m See above for output.\n",
            "  \n",
            "  \u001b[1;35mnote\u001b[0m: This error originates from a subprocess, and is likely not a problem with pip.\n",
            "  Preparing metadata (setup.py) ... \u001b[?25l\u001b[?25herror\n",
            "\u001b[1;31merror\u001b[0m: \u001b[1mmetadata-generation-failed\u001b[0m\n",
            "\n",
            "\u001b[31m×\u001b[0m Encountered error while generating package metadata.\n",
            "\u001b[31m╰─>\u001b[0m See above for output.\n",
            "\n",
            "\u001b[1;35mnote\u001b[0m: This is an issue with the package mentioned above, not pip.\n",
            "\u001b[1;36mhint\u001b[0m: See above for details.\n"
          ]
        }
      ]
    },
    {
      "cell_type": "code",
      "source": [
        "\n",
        "import nltk\n",
        "from nltk.corpus import stopwords\n",
        "from nltk.tokenize import word_tokenize\n",
        "from collections import Counter\n",
        "import matplotlib.pyplot as pl"
      ],
      "metadata": {
        "id": "Jp2NE0MgFupv"
      },
      "execution_count": null,
      "outputs": []
    },
    {
      "cell_type": "code",
      "source": [
        "# Ensure NLTK stopwords are downloaded\n",
        "nltk.download('punkt')\n",
        "nltk.download('stopwords')\n"
      ],
      "metadata": {
        "colab": {
          "base_uri": "https://localhost:8080/"
        },
        "id": "Lw3CiA7zFzoZ",
        "outputId": "d6f1ca07-5067-474a-ace5-7804cf374e00"
      },
      "execution_count": null,
      "outputs": [
        {
          "output_type": "stream",
          "name": "stderr",
          "text": [
            "[nltk_data] Downloading package punkt to /root/nltk_data...\n",
            "[nltk_data]   Package punkt is already up-to-date!\n",
            "[nltk_data] Downloading package stopwords to /root/nltk_data...\n",
            "[nltk_data]   Package stopwords is already up-to-date!\n"
          ]
        },
        {
          "output_type": "execute_result",
          "data": {
            "text/plain": [
              "True"
            ]
          },
          "metadata": {},
          "execution_count": 89
        }
      ]
    },
    {
      "cell_type": "code",
      "source": [
        "# Extract rating and reviews\n",
        "reviews = data['Rating text']\n",
        "ratings = data['Aggregate rating']"
      ],
      "metadata": {
        "id": "o5_wPh8gGbJi"
      },
      "execution_count": null,
      "outputs": []
    },
    {
      "cell_type": "code",
      "source": [
        "# Define a function to preprocess text\n",
        "def preprocess_text(text):\n",
        "    tokens = word_tokenize(text.lower())\n",
        "    stop_words = set(stopwords.words('english'))\n",
        "    tokens = [word for word in tokens if word.isalpha() and word not in stop_words]\n",
        "    return tokens"
      ],
      "metadata": {
        "id": "ePUMOpseI42p"
      },
      "execution_count": null,
      "outputs": []
    },
    {
      "cell_type": "code",
      "source": [
        "# Apply preprocessing to reviews\n",
        "data['Processed Reviews'] = reviews.apply(lambda x: preprocess_text(str(x)))"
      ],
      "metadata": {
        "id": "IieS8XmRI88w"
      },
      "execution_count": null,
      "outputs": []
    },
    {
      "cell_type": "code",
      "source": [
        "# Identify the most common positive and negative keywords\n",
        "positive_keywords = Counter()\n",
        "negative_keywords = Counter()\n",
        "positive_words = ['good', 'great', 'excellent', 'amazing', 'love','wondrfull']\n",
        "negative_words = ['bad', 'poor', 'terrible', 'awful', 'hate', 'horrible']\n"
      ],
      "metadata": {
        "id": "6zETfO3lJDKz"
      },
      "execution_count": null,
      "outputs": []
    },
    {
      "cell_type": "code",
      "source": [
        "for index, row in data.iterrows():\n",
        "    if row['Aggregate rating'] >= 4:\n",
        "        positive_keywords.update(row['Processed Reviews'])\n",
        "    elif row['Aggregate rating'] <= 2:\n",
        "        negative_keywords.update(row['Processed Reviews'])\n",
        " # Filter out common positive and negative words\n",
        "positive_keywords = {k: v for k, v in positive_keywords.items() if k in positive_words}\n",
        "negative_keywords = {k: v for k, v in negative_keywords.items() if k in negative_words}"
      ],
      "metadata": {
        "id": "OVzf___9JJ6-"
      },
      "execution_count": null,
      "outputs": []
    },
    {
      "cell_type": "code",
      "source": [
        "# Calculate the average length of reviews\n",
        "data['Review Length'] = reviews.apply(lambda x: len(str(x).split()))\n",
        "average_review_length = data['Review Length'].mean()"
      ],
      "metadata": {
        "id": "mENO8frgKBc6"
      },
      "execution_count": null,
      "outputs": []
    },
    {
      "cell_type": "code",
      "source": [
        "# Explore the relationship between review length and rating\n",
        "review_length_vs_rating = data.groupby('Aggregate rating')['Review Length'].mean()"
      ],
      "metadata": {
        "id": "dr_1fgqTKIIa"
      },
      "execution_count": null,
      "outputs": []
    },
    {
      "cell_type": "code",
      "source": [
        "# Display results\n",
        "print(\"Most common positive keywords:\", positive_keywords)\n",
        "print(\"Most common negative keywords:\", negative_keywords)\n",
        "print(\"Average review length:\", average_review_length)\n",
        "print(\"Review length vs rating:\\n\", review_length_vs_rating)"
      ],
      "metadata": {
        "colab": {
          "base_uri": "https://localhost:8080/"
        },
        "id": "5Y6elKazKQuV",
        "outputId": "ba83a24b-d84f-4de3-c94a-74c38d708e03"
      },
      "execution_count": null,
      "outputs": [
        {
          "output_type": "stream",
          "name": "stdout",
          "text": [
            "Most common positive keywords: {'excellent': 903, 'good': 3237}\n",
            "Most common negative keywords: {'poor': 30}\n",
            "Average review length: 1.3378703800649148\n",
            "Review length vs rating:\n",
            " Aggregate rating\n",
            "0.0    2.0\n",
            "1.8    1.0\n",
            "1.9    1.0\n",
            "2.0    1.0\n",
            "2.1    1.0\n",
            "2.2    1.0\n",
            "2.3    1.0\n",
            "2.4    1.0\n",
            "2.5    1.0\n",
            "2.6    1.0\n",
            "2.7    1.0\n",
            "2.8    1.0\n",
            "2.9    1.0\n",
            "3.0    1.0\n",
            "3.1    1.0\n",
            "3.2    1.0\n",
            "3.3    1.0\n",
            "3.4    1.0\n",
            "3.5    1.0\n",
            "3.6    1.0\n",
            "3.7    1.0\n",
            "3.8    1.0\n",
            "3.9    1.0\n",
            "4.0    2.0\n",
            "4.1    2.0\n",
            "4.2    2.0\n",
            "4.3    2.0\n",
            "4.4    2.0\n",
            "4.5    1.0\n",
            "4.6    1.0\n",
            "4.7    1.0\n",
            "4.8    1.0\n",
            "4.9    1.0\n",
            "Name: Review Length, dtype: float64\n"
          ]
        }
      ]
    },
    {
      "cell_type": "code",
      "source": [
        "# Plot the relationship between review length and rating\n",
        "plt.figure(figsize=(10, 6))\n",
        "plt.plot(review_length_vs_rating.index, review_length_vs_rating.values, marker='o')\n",
        "plt.title('relationship between reviews lenght and rating')\n",
        "plt.xlabel('rating')\n",
        "plt.ylabel('average reviwe length')\n",
        "plt.grid(True)\n",
        "plt.show()"
      ],
      "metadata": {
        "colab": {
          "base_uri": "https://localhost:8080/",
          "height": 564
        },
        "id": "VGf4I0gmK7wZ",
        "outputId": "08e0bcff-7278-4155-98a2-2872ab3eece3"
      },
      "execution_count": 117,
      "outputs": [
        {
          "output_type": "display_data",
          "data": {
            "text/plain": [
              "<Figure size 1000x600 with 1 Axes>"
            ],
            "image/png": "[encoded data removed]"
          },
          "metadata": {}
        }
      ]
    },
    {
      "cell_type": "markdown",
      "source": [
        "# Level 3\n",
        "# Task 2\n",
        "# Votes Analysis"
      ],
      "metadata": {
        "id": "wwZziuqaZVBF"
      }
    },
    {
      "cell_type": "code",
      "source": [
        "import seaborn as sns"
      ],
      "metadata": {
        "id": "2I0F4OuZZUQn"
      },
      "execution_count": 123,
      "outputs": []
    },
    {
      "cell_type": "code",
      "source": [
        "# Identify the restaurants with the highest and lowest number of votes\n",
        "highest_votes_restaurant = data.loc[data['Votes'].idxmax()]\n",
        "lowest_votes_restaurant = data.loc[data['Votes'].idxmin()]"
      ],
      "metadata": {
        "id": "8k8TPukHb_Ft"
      },
      "execution_count": 126,
      "outputs": []
    },
    {
      "cell_type": "code",
      "source": [
        "# Display the restaurants with the highest number of votes\n",
        "print(\"Restaurant with the highest number of votes:\")\n",
        "print(highest_votes_restaurant[['Restaurant Name', 'Votes', 'Aggregate rating']])"
      ],
      "metadata": {
        "colab": {
          "base_uri": "https://localhost:8080/"
        },
        "id": "6atqnTLSbYZC",
        "outputId": "360e3825-71f6-4874-ed04-986fbc4100a0"
      },
      "execution_count": 127,
      "outputs": [
        {
          "output_type": "stream",
          "name": "stdout",
          "text": [
            "Restaurant with the highest number of votes:\n",
            "Restaurant Name      Toit\n",
            "Votes               10934\n",
            "Aggregate rating      4.8\n",
            "Name: 728, dtype: object\n"
          ]
        }
      ]
    },
    {
      "cell_type": "code",
      "source": [
        "# Display the restaurants with the lowest number of votes\n",
        "print(\"Restaurant with the lowest number of votes:\")\n",
        "print(lowest_votes_restaurant[['Restaurant Name', 'Votes', 'Aggregate rating']])"
      ],
      "metadata": {
        "colab": {
          "base_uri": "https://localhost:8080/"
        },
        "id": "Zb_cC7APbfic",
        "outputId": "6620732a-47f3-4b98-cde9-739327318b7f"
      },
      "execution_count": 128,
      "outputs": [
        {
          "output_type": "stream",
          "name": "stdout",
          "text": [
            "Restaurant with the lowest number of votes:\n",
            "Restaurant Name     Cantinho da Gula\n",
            "Votes                              0\n",
            "Aggregate rating                 0.0\n",
            "Name: 69, dtype: object\n"
          ]
        }
      ]
    },
    {
      "cell_type": "code",
      "source": [
        "# Analyze the correlation between the number of votes and the rating\n",
        "correlation = data['Votes'].corr(data['Aggregate rating'])\n",
        "print(f'correlation between the number of votes and the rating: {correlation}')"
      ],
      "metadata": {
        "colab": {
          "base_uri": "https://localhost:8080/"
        },
        "id": "i-gBYtsqcQRt",
        "outputId": "5c27e7a0-abbd-424b-d53e-3dd161af21ad"
      },
      "execution_count": 133,
      "outputs": [
        {
          "output_type": "stream",
          "name": "stdout",
          "text": [
            "correlation between the number of votes and the rating: 0.31369058419541157\n"
          ]
        }
      ]
    },
    {
      "cell_type": "code",
      "source": [
        "# Plot the relationship between the number of votes and the rating\n",
        "plt.figure(figsize=(10, 6))\n",
        "sns.scatterplot(x='Votes', y='Aggregate rating', data=data)\n",
        "plt.title('Correlation between Number of Votes and Rating')\n",
        "plt.xlabel('Number of Votes')\n",
        "plt.ylabel('Rating')\n",
        "plt.grid(True)\n",
        "plt.show()"
      ],
      "metadata": {
        "colab": {
          "base_uri": "https://localhost:8080/",
          "height": 564
        },
        "id": "eIENR9f6dnZM",
        "outputId": "96823dfc-247a-4bd9-9aff-955a016b380c"
      },
      "execution_count": 136,
      "outputs": [
        {
          "output_type": "display_data",
          "data": {
            "text/plain": [
              "<Figure size 1000x600 with 1 Axes>"
            ],
            "image/png": "[encoded data removed]"
          },
          "metadata": {}
        }
      ]
    },
    {
      "cell_type": "markdown",
      "source": [
        "# Level 3\n",
        "# Task 3\n",
        "# Price Range vs. Online Delivery and\n",
        "# Table Booking"
      ],
      "metadata": {
        "id": "MxuwIp4setFp"
      }
    },
    {
      "cell_type": "code",
      "source": [
        "# Convert columns to categorical type if they are not already\n",
        "data['Price range'] = data['Price range'].astype('category')\n",
        "data['Has Online delivery'] = data['Has Online delivery'].astype('category')\n",
        "data['Has Table booking'] = data['Has Table booking'].astype('category')"
      ],
      "metadata": {
        "id": "WPPzV3BjfEH_"
      },
      "execution_count": 137,
      "outputs": []
    },
    {
      "cell_type": "code",
      "source": [
        "# Analyze the relationship between price range and online delivery\n",
        "online_delivery_vs_price = data.groupby('Price range')['Has Online delivery'].value_counts(normalize=True).unstack()"
      ],
      "metadata": {
        "id": "0kYIRbz0ijOZ"
      },
      "execution_count": 138,
      "outputs": []
    },
    {
      "cell_type": "code",
      "source": [
        "# Analyze the relationship between price range and table booking\n",
        "table_booking_vs_price = data.groupby('Price range')['Has Table booking'].value_counts(normalize=True).unstack()"
      ],
      "metadata": {
        "id": "cLX5UJoaitGv"
      },
      "execution_count": 139,
      "outputs": []
    },
    {
      "cell_type": "code",
      "source": [
        "# Plot the relationship between price range and online delivery\n",
        "plt.figure(figsize=(12, 6))\n",
        "sns.heatmap(online_delivery_vs_price, annot=True, fmt=\".2f\", cmap=\"YlGnBu\")\n",
        "plt.title('Relationship Between Price Range and Online Delivery')\n",
        "plt.xlabel('Online Delivery')\n",
        "plt.ylabel('Price Range')\n",
        "plt.show()"
      ],
      "metadata": {
        "colab": {
          "base_uri": "https://localhost:8080/",
          "height": 564
        },
        "id": "1M0I7XYsiwmM",
        "outputId": "669396a9-b834-4e9b-991f-de1afe640078"
      },
      "execution_count": 144,
      "outputs": [
        {
          "output_type": "display_data",
          "data": {
            "text/plain": [
              "<Figure size 1200x600 with 2 Axes>"
            ],
            "image/png": "[encoded data removed]"
          },
          "metadata": {}
        }
      ]
    },
    {
      "cell_type": "code",
      "source": [
        "# Plot the relationship between price range and table booking\n",
        "plt.figure(figsize=(12, 6))\n",
        "sns.heatmap(table_booking_vs_price, annot=True, fmt=\".2f\", cmap=\"YlGnBu\")\n",
        "plt.title('Relationship Between Price Range and Table Booking')\n",
        "plt.xlabel('Table Booking')\n",
        "plt.ylabel('Price Range')\n",
        "plt.show()"
      ],
      "metadata": {
        "colab": {
          "base_uri": "https://localhost:8080/",
          "height": 564
        },
        "id": "J_7Jz3VQi1Xw",
        "outputId": "6e1ae37c-651c-42eb-8b2a-62309a5fb9d6"
      },
      "execution_count": 143,
      "outputs": [
        {
          "output_type": "display_data",
          "data": {
            "text/plain": [
              "<Figure size 1200x600 with 2 Axes>"
            ],
            "image/png": "[encoded data removed]"
          },
          "metadata": {}
        }
      ]
    },
    {
      "cell_type": "code",
      "source": [
        "# Check if higher-priced restaurants are more likely to offer these services\n",
        "online_delivery_correlation = data['Price range'].cat.codes.corr(data['Has Online delivery'].cat.codes)\n",
        "table_booking_correlation = data['Price range'].cat.codes.corr(data['Has Table booking'].cat.codes)\n",
        "\n",
        "print(f\"Correlation between price range and online delivery: {online_delivery_correlation}\")\n",
        "print(f\"Correlation between price range and table booking: {table_booking_correlation}\")"
      ],
      "metadata": {
        "colab": {
          "base_uri": "https://localhost:8080/"
        },
        "id": "ZCO2NIO2i6pb",
        "outputId": "8d564c2d-b28d-4c1d-e45b-5ff284b0dd06"
      },
      "execution_count": 142,
      "outputs": [
        {
          "output_type": "stream",
          "name": "stdout",
          "text": [
            "Correlation between price range and online delivery: 0.07791776880448623\n",
            "Correlation between price range and table booking: 0.501924725037141\n"
          ]
        }
      ]
    },
    {
      "cell_type": "markdown",
      "source": [
        "# summary of analysis"
      ],
      "metadata": {
        "id": "VYaJ96mNjjCd"
      }
    },
    {
      "cell_type": "markdown",
      "source": [
        "1.Top Cuisines:\n",
        "\n",
        "The most common cuisines were identified, with their respective percentages of total restaurants.\n",
        "2.City Analysis:\n",
        "\n",
        "The city with the highest number of restaurants was identified.\n",
        "Average ratings for restaurants in each city were calculated.\n",
        "The city with the highest average rating was determined.\n",
        "3.Price Range Distribution:\n",
        "\n",
        "A bar chart showed the distribution of price ranges among restaurants.\n",
        "Percentages of restaurants in each price range were calculated.\n",
        "4.Online Delivery:\n",
        "\n",
        "The percentage of restaurants offering online delivery was determined.\n",
        "Average ratings of restaurants with and without online delivery were compared.\n",
        "5.Restaurant Reviews:\n",
        "\n",
        "Common positive and negative keywords in reviews were identified.\n",
        "The average length of reviews was calculated.\n",
        "The relationship between review length and rating was explored.\n",
        "\n",
        "6.Votes Analysis:\n",
        "\n",
        "Restaurants with the highest and lowest number of votes were identified.\n",
        "The correlation between the number of votes and restaurant ratings was analyzed.\n",
        "7.Price Range vs. Online Delivery and Table Booking:\n",
        "\n",
        "The relationship between price range and the availability of online delivery and table booking was analyzed.\n",
        "It was determined that higher-priced restaurants are more likely to offer these services, as indicated by the positive correlation values."
      ],
      "metadata": {
        "id": "Y3cTjQH2jnrA"
      }
    },
    {
      "cell_type": "markdown",
      "source": [
        "# Overall Conclusion\n",
        "The analyses provide comprehensive insights into various aspects of the restaurant dataset, including cuisine popularity, city-wise distribution, price range impact, service availability, and customer reviews. Key findings highlight the diversity in restaurant offerings, the importance of city-specific factors, the influence of price on service availability, and the significance of customer engagement through votes and reviews. These insights can inform strategic decisions for restaurant businesses, marketers, and consumer"
      ],
      "metadata": {
        "id": "aNBcjdsBj_j8"
      }
    }
  ]
}